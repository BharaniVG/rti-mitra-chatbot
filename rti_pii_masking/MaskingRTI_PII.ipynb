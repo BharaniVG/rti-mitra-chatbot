{
 "cells": [
  {
   "cell_type": "code",
   "execution_count": 7,
   "id": "ef30a3c2-efd6-423b-b735-ff36ca69c9d0",
   "metadata": {},
   "outputs": [
    {
     "name": "stderr",
     "output_type": "stream",
     "text": [
      "/Users/Paddy/Library/Python/3.9/lib/python/site-packages/urllib3/__init__.py:35: NotOpenSSLWarning: urllib3 v2 only supports OpenSSL 1.1.1+, currently the 'ssl' module is compiled with 'LibreSSL 2.8.3'. See: https://github.com/urllib3/urllib3/issues/3020\n",
      "  warnings.warn(\n",
      "usage: ipykernel_launcher.py [-h] --input INPUT --output OUTPUT --columns\n",
      "                             COLUMNS\n",
      "ipykernel_launcher.py: error: the following arguments are required: --input, --output, --columns\n"
     ]
    },
    {
     "ename": "SystemExit",
     "evalue": "2",
     "output_type": "error",
     "traceback": [
      "An exception has occurred, use %tb to see the full traceback.\n",
      "\u001b[0;31mSystemExit\u001b[0m\u001b[0;31m:\u001b[0m 2\n"
     ]
    },
    {
     "name": "stderr",
     "output_type": "stream",
     "text": [
      "/Users/Paddy/Library/Python/3.9/lib/python/site-packages/IPython/core/interactiveshell.py:3558: UserWarning: To exit: use 'exit', 'quit', or Ctrl-D.\n",
      "  warn(\"To exit: use 'exit', 'quit', or Ctrl-D.\", stacklevel=1)\n"
     ]
    }
   ],
   "source": [
    "import argparse\n",
    "import pandas as pd\n",
    "import requests\n",
    "\n",
    "OLLAMA_URL = \"http://localhost:11434/api/generate\"\n",
    "MODEL = \"llama3.2\"  # Change to your locally pulled model if needed\n",
    "\n",
    "def redact_pii(text):\n",
    "    \"\"\"Send text to Ollama model to redact PII.\"\"\"\n",
    "    if not isinstance(text, str) or text.strip() == \"\":\n",
    "        return text\n",
    "\n",
    "    prompt = f\"\"\"\n",
    "    You are an Agent to identify and replace PII. You can only replace and should not rewrite or rephrase the sentence.\n",
    "\n",
    "    Please replace any name with [MASKED_NAME], address with [MASKED_ADDRESS], phone number with [MASKED_PHONE_NUMBER], company name with [MASKED_COMPANY_NAME], and any other personally identifiable information accordingly.\n",
    "\n",
    "    Please replace name, address, phone number, bank account number, PAN, Aadhar, age, any identification number, EPF, Bill number, Company name, Company address, date, etc.\n",
    "\n",
    "    Text:\n",
    "    {text}\n",
    "\n",
    "    Return only the redacted version of the text.\n",
    "    \"\"\"\n",
    "\n",
    "    try:\n",
    "        response = requests.post(OLLAMA_URL, json={\n",
    "            \"model\": MODEL,\n",
    "            \"prompt\": prompt,\n",
    "            \"stream\": False\n",
    "        })\n",
    "\n",
    "        if response.status_code == 200:\n",
    "            return response.json().get(\"response\", \"\").strip()\n",
    "        else:\n",
    "            print(f\"Error: {response.status_code} - {response.text}\")\n",
    "            return text\n",
    "    except Exception as e:\n",
    "        print(f\"Error contacting Ollama: {e}\")\n",
    "        return text\n",
    "\n",
    "def redact_excel_file(input_path, output_path, pii_columns):\n",
    "    \"\"\"Read Excel file, redact PII from selected columns, and save to new file.\"\"\"\n",
    "    try:\n",
    "        df = pd.read_excel(input_path)\n",
    "    except Exception as e:\n",
    "        print(f\"Error reading Excel file: {e}\")\n",
    "        return\n",
    "\n",
    "    for col in pii_columns:\n",
    "        if col not in df.columns:\n",
    "            print(f\"Column '{col}' not found in Excel. Skipping.\")\n",
    "            continue\n",
    "\n",
    "        print(f\"Redacting PII in column: {col}\")\n",
    "        df[col] = df[col].apply(redact_pii)\n",
    "\n",
    "    try:\n",
    "        df.to_excel(output_path, index=False)\n",
    "        print(f\"✅ Anonymized Excel saved to: {output_path}\")\n",
    "    except Exception as e:\n",
    "        print(f\"Error saving redacted Excel file: {e}\")\n",
    "\n",
    "if __name__ == \"__main__\":\n",
    "    parser = argparse.ArgumentParser(description=\"Redact PII from an Excel file using an LLM\")\n",
    "    parser.add_argument(\"--input\", required=True, help=\"Path to the input Excel file\")\n",
    "    parser.add_argument(\"--output\", required=True, help=\"Path to save the redacted Excel file\")\n",
    "    parser.add_argument(\"--columns\", required=True, help=\"Comma-separated column names to redact\")\n",
    "\n",
    "    args = parser.parse_args()\n",
    "\n",
    "    input_file = args.input\n",
    "    output_file = args.output\n",
    "    columns_with_pii = [col.strip() for col in args.columns.split(\",\")]\n",
    "\n",
    "    redact_excel_file(input_file, output_file, columns_with_pii)"
   ]
  },
  {
   "cell_type": "code",
   "execution_count": 6,
   "id": "b9059b5c-30e8-45ed-8196-0c7f7c67a65a",
   "metadata": {},
   "outputs": [
    {
     "name": "stdout",
     "output_type": "stream",
     "text": [
      "Defaulting to user installation because normal site-packages is not writeable\n",
      "Collecting ipywidgets\n",
      "  Downloading ipywidgets-8.1.7-py3-none-any.whl.metadata (2.4 kB)\n",
      "Requirement already satisfied: comm>=0.1.3 in /Users/Paddy/Library/Python/3.9/lib/python/site-packages (from ipywidgets) (0.2.2)\n",
      "Requirement already satisfied: ipython>=6.1.0 in /Users/Paddy/Library/Python/3.9/lib/python/site-packages (from ipywidgets) (8.18.1)\n",
      "Requirement already satisfied: traitlets>=4.3.1 in /Users/Paddy/Library/Python/3.9/lib/python/site-packages (from ipywidgets) (5.14.3)\n",
      "Collecting widgetsnbextension~=4.0.14 (from ipywidgets)\n",
      "  Downloading widgetsnbextension-4.0.14-py3-none-any.whl.metadata (1.6 kB)\n",
      "Collecting jupyterlab_widgets~=3.0.15 (from ipywidgets)\n",
      "  Downloading jupyterlab_widgets-3.0.15-py3-none-any.whl.metadata (20 kB)\n",
      "Requirement already satisfied: decorator in /Users/Paddy/Library/Python/3.9/lib/python/site-packages (from ipython>=6.1.0->ipywidgets) (5.2.1)\n",
      "Requirement already satisfied: jedi>=0.16 in /Users/Paddy/Library/Python/3.9/lib/python/site-packages (from ipython>=6.1.0->ipywidgets) (0.19.2)\n",
      "Requirement already satisfied: matplotlib-inline in /Users/Paddy/Library/Python/3.9/lib/python/site-packages (from ipython>=6.1.0->ipywidgets) (0.1.7)\n",
      "Requirement already satisfied: prompt-toolkit<3.1.0,>=3.0.41 in /Users/Paddy/Library/Python/3.9/lib/python/site-packages (from ipython>=6.1.0->ipywidgets) (3.0.51)\n",
      "Requirement already satisfied: pygments>=2.4.0 in /Users/Paddy/Library/Python/3.9/lib/python/site-packages (from ipython>=6.1.0->ipywidgets) (2.19.1)\n",
      "Requirement already satisfied: stack-data in /Users/Paddy/Library/Python/3.9/lib/python/site-packages (from ipython>=6.1.0->ipywidgets) (0.6.3)\n",
      "Requirement already satisfied: typing-extensions in /Users/Paddy/Library/Python/3.9/lib/python/site-packages (from ipython>=6.1.0->ipywidgets) (4.12.2)\n",
      "Requirement already satisfied: exceptiongroup in /Users/Paddy/Library/Python/3.9/lib/python/site-packages (from ipython>=6.1.0->ipywidgets) (1.2.2)\n",
      "Requirement already satisfied: pexpect>4.3 in /Users/Paddy/Library/Python/3.9/lib/python/site-packages (from ipython>=6.1.0->ipywidgets) (4.9.0)\n",
      "Requirement already satisfied: parso<0.9.0,>=0.8.4 in /Users/Paddy/Library/Python/3.9/lib/python/site-packages (from jedi>=0.16->ipython>=6.1.0->ipywidgets) (0.8.4)\n",
      "Requirement already satisfied: ptyprocess>=0.5 in /Users/Paddy/Library/Python/3.9/lib/python/site-packages (from pexpect>4.3->ipython>=6.1.0->ipywidgets) (0.7.0)\n",
      "Requirement already satisfied: wcwidth in /Users/Paddy/Library/Python/3.9/lib/python/site-packages (from prompt-toolkit<3.1.0,>=3.0.41->ipython>=6.1.0->ipywidgets) (0.2.13)\n",
      "Requirement already satisfied: executing>=1.2.0 in /Users/Paddy/Library/Python/3.9/lib/python/site-packages (from stack-data->ipython>=6.1.0->ipywidgets) (2.2.0)\n",
      "Requirement already satisfied: asttokens>=2.1.0 in /Users/Paddy/Library/Python/3.9/lib/python/site-packages (from stack-data->ipython>=6.1.0->ipywidgets) (3.0.0)\n",
      "Requirement already satisfied: pure-eval in /Users/Paddy/Library/Python/3.9/lib/python/site-packages (from stack-data->ipython>=6.1.0->ipywidgets) (0.2.3)\n",
      "Downloading ipywidgets-8.1.7-py3-none-any.whl (139 kB)\n",
      "Downloading jupyterlab_widgets-3.0.15-py3-none-any.whl (216 kB)\n",
      "Downloading widgetsnbextension-4.0.14-py3-none-any.whl (2.2 MB)\n",
      "\u001b[2K   \u001b[90m━━━━━━━━━━━━━━━━━━━━━━━━━━━━━━━━━━━━━━━━\u001b[0m \u001b[32m2.2/2.2 MB\u001b[0m \u001b[31m74.9 kB/s\u001b[0m eta \u001b[36m0:00:00\u001b[0ma \u001b[36m0:00:02\u001b[0mm\n",
      "\u001b[?25hInstalling collected packages: widgetsnbextension, jupyterlab_widgets, ipywidgets\n",
      "Successfully installed ipywidgets-8.1.7 jupyterlab_widgets-3.0.15 widgetsnbextension-4.0.14\n",
      "\n",
      "\u001b[1m[\u001b[0m\u001b[34;49mnotice\u001b[0m\u001b[1;39;49m]\u001b[0m\u001b[39;49m A new release of pip is available: \u001b[0m\u001b[31;49m25.0.1\u001b[0m\u001b[39;49m -> \u001b[0m\u001b[32;49m25.1.1\u001b[0m\n",
      "\u001b[1m[\u001b[0m\u001b[34;49mnotice\u001b[0m\u001b[1;39;49m]\u001b[0m\u001b[39;49m To update, run: \u001b[0m\u001b[32;49m/Library/Developer/CommandLineTools/usr/bin/python3 -m pip install --upgrade pip\u001b[0m\n"
     ]
    }
   ],
   "source": [
    "!pip install ipywidgets"
   ]
  },
  {
   "cell_type": "code",
   "execution_count": null,
   "id": "8c4c35de-7d3c-451e-813e-f275f69edbf8",
   "metadata": {},
   "outputs": [],
   "source": []
  }
 ],
 "metadata": {
  "kernelspec": {
   "display_name": "Python 3 (ipykernel)",
   "language": "python",
   "name": "python3"
  },
  "language_info": {
   "codemirror_mode": {
    "name": "ipython",
    "version": 3
   },
   "file_extension": ".py",
   "mimetype": "text/x-python",
   "name": "python",
   "nbconvert_exporter": "python",
   "pygments_lexer": "ipython3",
   "version": "3.9.6"
  }
 },
 "nbformat": 4,
 "nbformat_minor": 5
}
